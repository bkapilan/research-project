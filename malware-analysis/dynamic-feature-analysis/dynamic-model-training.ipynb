{
 "cells": [
  {
   "cell_type": "code",
   "execution_count": 4,
   "id": "e35c3849",
   "metadata": {},
   "outputs": [],
   "source": [
    "import pandas as pd\n",
    "import numpy as np\n",
    "import csv"
   ]
  },
  {
   "cell_type": "code",
   "execution_count": 5,
   "id": "2d85a6a8",
   "metadata": {},
   "outputs": [],
   "source": [
    "# Load the dataset\n",
    "data = pd.read_csv('api_call_sequence.csv')"
   ]
  },
  {
   "cell_type": "code",
   "execution_count": 6,
   "id": "544a4fb4",
   "metadata": {},
   "outputs": [
    {
     "data": {
      "text/html": [
       "<div>\n",
       "<style scoped>\n",
       "    .dataframe tbody tr th:only-of-type {\n",
       "        vertical-align: middle;\n",
       "    }\n",
       "\n",
       "    .dataframe tbody tr th {\n",
       "        vertical-align: top;\n",
       "    }\n",
       "\n",
       "    .dataframe thead th {\n",
       "        text-align: right;\n",
       "    }\n",
       "</style>\n",
       "<table border=\"1\" class=\"dataframe\">\n",
       "  <thead>\n",
       "    <tr style=\"text-align: right;\">\n",
       "      <th></th>\n",
       "      <th>hash</th>\n",
       "      <th>t_0</th>\n",
       "      <th>t_1</th>\n",
       "      <th>t_2</th>\n",
       "      <th>t_3</th>\n",
       "      <th>t_4</th>\n",
       "      <th>t_5</th>\n",
       "      <th>t_6</th>\n",
       "      <th>t_7</th>\n",
       "      <th>t_8</th>\n",
       "      <th>...</th>\n",
       "      <th>t_91</th>\n",
       "      <th>t_92</th>\n",
       "      <th>t_93</th>\n",
       "      <th>t_94</th>\n",
       "      <th>t_95</th>\n",
       "      <th>t_96</th>\n",
       "      <th>t_97</th>\n",
       "      <th>t_98</th>\n",
       "      <th>t_99</th>\n",
       "      <th>malware</th>\n",
       "    </tr>\n",
       "  </thead>\n",
       "  <tbody>\n",
       "    <tr>\n",
       "      <th>0</th>\n",
       "      <td>071e8c3f8922e186e57548cd4c703a5d</td>\n",
       "      <td>112</td>\n",
       "      <td>274</td>\n",
       "      <td>158</td>\n",
       "      <td>215</td>\n",
       "      <td>274</td>\n",
       "      <td>158</td>\n",
       "      <td>215</td>\n",
       "      <td>298</td>\n",
       "      <td>76</td>\n",
       "      <td>...</td>\n",
       "      <td>71</td>\n",
       "      <td>297</td>\n",
       "      <td>135</td>\n",
       "      <td>171</td>\n",
       "      <td>215</td>\n",
       "      <td>35</td>\n",
       "      <td>208</td>\n",
       "      <td>56</td>\n",
       "      <td>71</td>\n",
       "      <td>1</td>\n",
       "    </tr>\n",
       "    <tr>\n",
       "      <th>1</th>\n",
       "      <td>33f8e6d08a6aae939f25a8e0d63dd523</td>\n",
       "      <td>82</td>\n",
       "      <td>208</td>\n",
       "      <td>187</td>\n",
       "      <td>208</td>\n",
       "      <td>172</td>\n",
       "      <td>117</td>\n",
       "      <td>172</td>\n",
       "      <td>117</td>\n",
       "      <td>172</td>\n",
       "      <td>...</td>\n",
       "      <td>81</td>\n",
       "      <td>240</td>\n",
       "      <td>117</td>\n",
       "      <td>71</td>\n",
       "      <td>297</td>\n",
       "      <td>135</td>\n",
       "      <td>171</td>\n",
       "      <td>215</td>\n",
       "      <td>35</td>\n",
       "      <td>1</td>\n",
       "    </tr>\n",
       "    <tr>\n",
       "      <th>2</th>\n",
       "      <td>b68abd064e975e1c6d5f25e748663076</td>\n",
       "      <td>16</td>\n",
       "      <td>110</td>\n",
       "      <td>240</td>\n",
       "      <td>117</td>\n",
       "      <td>240</td>\n",
       "      <td>117</td>\n",
       "      <td>240</td>\n",
       "      <td>117</td>\n",
       "      <td>240</td>\n",
       "      <td>...</td>\n",
       "      <td>65</td>\n",
       "      <td>112</td>\n",
       "      <td>123</td>\n",
       "      <td>65</td>\n",
       "      <td>112</td>\n",
       "      <td>123</td>\n",
       "      <td>65</td>\n",
       "      <td>113</td>\n",
       "      <td>112</td>\n",
       "      <td>1</td>\n",
       "    </tr>\n",
       "    <tr>\n",
       "      <th>3</th>\n",
       "      <td>72049be7bd30ea61297ea624ae198067</td>\n",
       "      <td>82</td>\n",
       "      <td>208</td>\n",
       "      <td>187</td>\n",
       "      <td>208</td>\n",
       "      <td>172</td>\n",
       "      <td>117</td>\n",
       "      <td>172</td>\n",
       "      <td>117</td>\n",
       "      <td>172</td>\n",
       "      <td>...</td>\n",
       "      <td>208</td>\n",
       "      <td>302</td>\n",
       "      <td>208</td>\n",
       "      <td>302</td>\n",
       "      <td>187</td>\n",
       "      <td>208</td>\n",
       "      <td>302</td>\n",
       "      <td>228</td>\n",
       "      <td>302</td>\n",
       "      <td>1</td>\n",
       "    </tr>\n",
       "    <tr>\n",
       "      <th>4</th>\n",
       "      <td>c9b3700a77facf29172f32df6bc77f48</td>\n",
       "      <td>82</td>\n",
       "      <td>240</td>\n",
       "      <td>117</td>\n",
       "      <td>240</td>\n",
       "      <td>117</td>\n",
       "      <td>240</td>\n",
       "      <td>117</td>\n",
       "      <td>240</td>\n",
       "      <td>117</td>\n",
       "      <td>...</td>\n",
       "      <td>209</td>\n",
       "      <td>260</td>\n",
       "      <td>40</td>\n",
       "      <td>209</td>\n",
       "      <td>260</td>\n",
       "      <td>141</td>\n",
       "      <td>260</td>\n",
       "      <td>141</td>\n",
       "      <td>260</td>\n",
       "      <td>1</td>\n",
       "    </tr>\n",
       "  </tbody>\n",
       "</table>\n",
       "<p>5 rows × 102 columns</p>\n",
       "</div>"
      ],
      "text/plain": [
       "                               hash  t_0  t_1  t_2  t_3  t_4  t_5  t_6  t_7  \\\n",
       "0  071e8c3f8922e186e57548cd4c703a5d  112  274  158  215  274  158  215  298   \n",
       "1  33f8e6d08a6aae939f25a8e0d63dd523   82  208  187  208  172  117  172  117   \n",
       "2  b68abd064e975e1c6d5f25e748663076   16  110  240  117  240  117  240  117   \n",
       "3  72049be7bd30ea61297ea624ae198067   82  208  187  208  172  117  172  117   \n",
       "4  c9b3700a77facf29172f32df6bc77f48   82  240  117  240  117  240  117  240   \n",
       "\n",
       "   t_8  ...  t_91  t_92  t_93  t_94  t_95  t_96  t_97  t_98  t_99  malware  \n",
       "0   76  ...    71   297   135   171   215    35   208    56    71        1  \n",
       "1  172  ...    81   240   117    71   297   135   171   215    35        1  \n",
       "2  240  ...    65   112   123    65   112   123    65   113   112        1  \n",
       "3  172  ...   208   302   208   302   187   208   302   228   302        1  \n",
       "4  117  ...   209   260    40   209   260   141   260   141   260        1  \n",
       "\n",
       "[5 rows x 102 columns]"
      ]
     },
     "execution_count": 6,
     "metadata": {},
     "output_type": "execute_result"
    }
   ],
   "source": [
    "# View first five raw\n",
    "data.head()"
   ]
  },
  {
   "cell_type": "code",
   "execution_count": 7,
   "id": "93afb540",
   "metadata": {},
   "outputs": [
    {
     "data": {
      "text/plain": [
       "hash       0\n",
       "t_0        0\n",
       "t_1        0\n",
       "t_2        0\n",
       "t_3        0\n",
       "          ..\n",
       "t_96       0\n",
       "t_97       0\n",
       "t_98       0\n",
       "t_99       0\n",
       "malware    0\n",
       "Length: 102, dtype: int64"
      ]
     },
     "execution_count": 7,
     "metadata": {},
     "output_type": "execute_result"
    }
   ],
   "source": [
    "# Checking and removing NULL values\n",
    "data.isnull().sum()"
   ]
  },
  {
   "cell_type": "code",
   "execution_count": 8,
   "id": "7550ddb6",
   "metadata": {},
   "outputs": [
    {
     "data": {
      "text/html": [
       "<div>\n",
       "<style scoped>\n",
       "    .dataframe tbody tr th:only-of-type {\n",
       "        vertical-align: middle;\n",
       "    }\n",
       "\n",
       "    .dataframe tbody tr th {\n",
       "        vertical-align: top;\n",
       "    }\n",
       "\n",
       "    .dataframe thead th {\n",
       "        text-align: right;\n",
       "    }\n",
       "</style>\n",
       "<table border=\"1\" class=\"dataframe\">\n",
       "  <thead>\n",
       "    <tr style=\"text-align: right;\">\n",
       "      <th></th>\n",
       "      <th>t_0</th>\n",
       "      <th>t_1</th>\n",
       "      <th>t_2</th>\n",
       "      <th>t_3</th>\n",
       "      <th>t_4</th>\n",
       "      <th>t_5</th>\n",
       "      <th>t_6</th>\n",
       "      <th>t_7</th>\n",
       "      <th>t_8</th>\n",
       "      <th>t_9</th>\n",
       "      <th>...</th>\n",
       "      <th>t_91</th>\n",
       "      <th>t_92</th>\n",
       "      <th>t_93</th>\n",
       "      <th>t_94</th>\n",
       "      <th>t_95</th>\n",
       "      <th>t_96</th>\n",
       "      <th>t_97</th>\n",
       "      <th>t_98</th>\n",
       "      <th>t_99</th>\n",
       "      <th>malware</th>\n",
       "    </tr>\n",
       "  </thead>\n",
       "  <tbody>\n",
       "    <tr>\n",
       "      <th>count</th>\n",
       "      <td>43876.000000</td>\n",
       "      <td>43876.000000</td>\n",
       "      <td>43876.000000</td>\n",
       "      <td>43876.000000</td>\n",
       "      <td>43876.000000</td>\n",
       "      <td>43876.000000</td>\n",
       "      <td>43876.000000</td>\n",
       "      <td>43876.000000</td>\n",
       "      <td>43876.000000</td>\n",
       "      <td>43876.000000</td>\n",
       "      <td>...</td>\n",
       "      <td>43876.000000</td>\n",
       "      <td>43876.000000</td>\n",
       "      <td>43876.000000</td>\n",
       "      <td>43876.000000</td>\n",
       "      <td>43876.000000</td>\n",
       "      <td>43876.000000</td>\n",
       "      <td>43876.000000</td>\n",
       "      <td>43876.000000</td>\n",
       "      <td>43876.000000</td>\n",
       "      <td>43876.000000</td>\n",
       "    </tr>\n",
       "    <tr>\n",
       "      <th>mean</th>\n",
       "      <td>142.830226</td>\n",
       "      <td>211.477414</td>\n",
       "      <td>148.217294</td>\n",
       "      <td>189.045674</td>\n",
       "      <td>187.514746</td>\n",
       "      <td>174.190218</td>\n",
       "      <td>170.290022</td>\n",
       "      <td>199.070015</td>\n",
       "      <td>142.659016</td>\n",
       "      <td>167.358921</td>\n",
       "      <td>...</td>\n",
       "      <td>154.448332</td>\n",
       "      <td>173.219459</td>\n",
       "      <td>159.951568</td>\n",
       "      <td>164.615074</td>\n",
       "      <td>173.637159</td>\n",
       "      <td>152.397848</td>\n",
       "      <td>158.442543</td>\n",
       "      <td>160.717203</td>\n",
       "      <td>155.788199</td>\n",
       "      <td>0.975408</td>\n",
       "    </tr>\n",
       "    <tr>\n",
       "      <th>std</th>\n",
       "      <td>75.599441</td>\n",
       "      <td>60.082481</td>\n",
       "      <td>47.667868</td>\n",
       "      <td>68.119087</td>\n",
       "      <td>71.196556</td>\n",
       "      <td>65.713664</td>\n",
       "      <td>55.469501</td>\n",
       "      <td>65.474790</td>\n",
       "      <td>66.756934</td>\n",
       "      <td>53.440972</td>\n",
       "      <td>...</td>\n",
       "      <td>78.342789</td>\n",
       "      <td>82.696235</td>\n",
       "      <td>74.248027</td>\n",
       "      <td>70.240283</td>\n",
       "      <td>70.632812</td>\n",
       "      <td>79.819427</td>\n",
       "      <td>78.142193</td>\n",
       "      <td>74.979008</td>\n",
       "      <td>79.068212</td>\n",
       "      <td>0.154880</td>\n",
       "    </tr>\n",
       "    <tr>\n",
       "      <th>min</th>\n",
       "      <td>2.000000</td>\n",
       "      <td>2.000000</td>\n",
       "      <td>2.000000</td>\n",
       "      <td>2.000000</td>\n",
       "      <td>0.000000</td>\n",
       "      <td>0.000000</td>\n",
       "      <td>0.000000</td>\n",
       "      <td>0.000000</td>\n",
       "      <td>0.000000</td>\n",
       "      <td>2.000000</td>\n",
       "      <td>...</td>\n",
       "      <td>0.000000</td>\n",
       "      <td>0.000000</td>\n",
       "      <td>0.000000</td>\n",
       "      <td>0.000000</td>\n",
       "      <td>0.000000</td>\n",
       "      <td>0.000000</td>\n",
       "      <td>0.000000</td>\n",
       "      <td>0.000000</td>\n",
       "      <td>0.000000</td>\n",
       "      <td>0.000000</td>\n",
       "    </tr>\n",
       "    <tr>\n",
       "      <th>25%</th>\n",
       "      <td>82.000000</td>\n",
       "      <td>172.000000</td>\n",
       "      <td>117.000000</td>\n",
       "      <td>117.000000</td>\n",
       "      <td>117.000000</td>\n",
       "      <td>117.000000</td>\n",
       "      <td>117.000000</td>\n",
       "      <td>159.000000</td>\n",
       "      <td>117.000000</td>\n",
       "      <td>117.000000</td>\n",
       "      <td>...</td>\n",
       "      <td>81.000000</td>\n",
       "      <td>117.000000</td>\n",
       "      <td>114.000000</td>\n",
       "      <td>117.000000</td>\n",
       "      <td>117.000000</td>\n",
       "      <td>89.000000</td>\n",
       "      <td>100.000000</td>\n",
       "      <td>108.000000</td>\n",
       "      <td>75.250000</td>\n",
       "      <td>1.000000</td>\n",
       "    </tr>\n",
       "    <tr>\n",
       "      <th>50%</th>\n",
       "      <td>82.000000</td>\n",
       "      <td>240.000000</td>\n",
       "      <td>158.000000</td>\n",
       "      <td>215.000000</td>\n",
       "      <td>172.000000</td>\n",
       "      <td>158.000000</td>\n",
       "      <td>172.000000</td>\n",
       "      <td>215.000000</td>\n",
       "      <td>117.000000</td>\n",
       "      <td>172.000000</td>\n",
       "      <td>...</td>\n",
       "      <td>141.000000</td>\n",
       "      <td>172.000000</td>\n",
       "      <td>141.000000</td>\n",
       "      <td>171.000000</td>\n",
       "      <td>172.000000</td>\n",
       "      <td>141.000000</td>\n",
       "      <td>171.000000</td>\n",
       "      <td>158.000000</td>\n",
       "      <td>141.000000</td>\n",
       "      <td>1.000000</td>\n",
       "    </tr>\n",
       "    <tr>\n",
       "      <th>75%</th>\n",
       "      <td>215.000000</td>\n",
       "      <td>240.000000</td>\n",
       "      <td>172.000000</td>\n",
       "      <td>240.000000</td>\n",
       "      <td>274.000000</td>\n",
       "      <td>240.000000</td>\n",
       "      <td>215.000000</td>\n",
       "      <td>240.000000</td>\n",
       "      <td>208.000000</td>\n",
       "      <td>208.000000</td>\n",
       "      <td>...</td>\n",
       "      <td>240.000000</td>\n",
       "      <td>260.000000</td>\n",
       "      <td>240.000000</td>\n",
       "      <td>215.000000</td>\n",
       "      <td>240.000000</td>\n",
       "      <td>215.000000</td>\n",
       "      <td>224.000000</td>\n",
       "      <td>226.000000</td>\n",
       "      <td>225.000000</td>\n",
       "      <td>1.000000</td>\n",
       "    </tr>\n",
       "    <tr>\n",
       "      <th>max</th>\n",
       "      <td>306.000000</td>\n",
       "      <td>306.000000</td>\n",
       "      <td>306.000000</td>\n",
       "      <td>306.000000</td>\n",
       "      <td>306.000000</td>\n",
       "      <td>306.000000</td>\n",
       "      <td>306.000000</td>\n",
       "      <td>306.000000</td>\n",
       "      <td>306.000000</td>\n",
       "      <td>306.000000</td>\n",
       "      <td>...</td>\n",
       "      <td>306.000000</td>\n",
       "      <td>306.000000</td>\n",
       "      <td>306.000000</td>\n",
       "      <td>306.000000</td>\n",
       "      <td>306.000000</td>\n",
       "      <td>306.000000</td>\n",
       "      <td>306.000000</td>\n",
       "      <td>306.000000</td>\n",
       "      <td>306.000000</td>\n",
       "      <td>1.000000</td>\n",
       "    </tr>\n",
       "  </tbody>\n",
       "</table>\n",
       "<p>8 rows × 101 columns</p>\n",
       "</div>"
      ],
      "text/plain": [
       "                t_0           t_1           t_2           t_3           t_4  \\\n",
       "count  43876.000000  43876.000000  43876.000000  43876.000000  43876.000000   \n",
       "mean     142.830226    211.477414    148.217294    189.045674    187.514746   \n",
       "std       75.599441     60.082481     47.667868     68.119087     71.196556   \n",
       "min        2.000000      2.000000      2.000000      2.000000      0.000000   \n",
       "25%       82.000000    172.000000    117.000000    117.000000    117.000000   \n",
       "50%       82.000000    240.000000    158.000000    215.000000    172.000000   \n",
       "75%      215.000000    240.000000    172.000000    240.000000    274.000000   \n",
       "max      306.000000    306.000000    306.000000    306.000000    306.000000   \n",
       "\n",
       "                t_5           t_6           t_7           t_8           t_9  \\\n",
       "count  43876.000000  43876.000000  43876.000000  43876.000000  43876.000000   \n",
       "mean     174.190218    170.290022    199.070015    142.659016    167.358921   \n",
       "std       65.713664     55.469501     65.474790     66.756934     53.440972   \n",
       "min        0.000000      0.000000      0.000000      0.000000      2.000000   \n",
       "25%      117.000000    117.000000    159.000000    117.000000    117.000000   \n",
       "50%      158.000000    172.000000    215.000000    117.000000    172.000000   \n",
       "75%      240.000000    215.000000    240.000000    208.000000    208.000000   \n",
       "max      306.000000    306.000000    306.000000    306.000000    306.000000   \n",
       "\n",
       "       ...          t_91          t_92          t_93          t_94  \\\n",
       "count  ...  43876.000000  43876.000000  43876.000000  43876.000000   \n",
       "mean   ...    154.448332    173.219459    159.951568    164.615074   \n",
       "std    ...     78.342789     82.696235     74.248027     70.240283   \n",
       "min    ...      0.000000      0.000000      0.000000      0.000000   \n",
       "25%    ...     81.000000    117.000000    114.000000    117.000000   \n",
       "50%    ...    141.000000    172.000000    141.000000    171.000000   \n",
       "75%    ...    240.000000    260.000000    240.000000    215.000000   \n",
       "max    ...    306.000000    306.000000    306.000000    306.000000   \n",
       "\n",
       "               t_95          t_96          t_97          t_98          t_99  \\\n",
       "count  43876.000000  43876.000000  43876.000000  43876.000000  43876.000000   \n",
       "mean     173.637159    152.397848    158.442543    160.717203    155.788199   \n",
       "std       70.632812     79.819427     78.142193     74.979008     79.068212   \n",
       "min        0.000000      0.000000      0.000000      0.000000      0.000000   \n",
       "25%      117.000000     89.000000    100.000000    108.000000     75.250000   \n",
       "50%      172.000000    141.000000    171.000000    158.000000    141.000000   \n",
       "75%      240.000000    215.000000    224.000000    226.000000    225.000000   \n",
       "max      306.000000    306.000000    306.000000    306.000000    306.000000   \n",
       "\n",
       "            malware  \n",
       "count  43876.000000  \n",
       "mean       0.975408  \n",
       "std        0.154880  \n",
       "min        0.000000  \n",
       "25%        1.000000  \n",
       "50%        1.000000  \n",
       "75%        1.000000  \n",
       "max        1.000000  \n",
       "\n",
       "[8 rows x 101 columns]"
      ]
     },
     "execution_count": 8,
     "metadata": {},
     "output_type": "execute_result"
    }
   ],
   "source": [
    "data.describe()"
   ]
  },
  {
   "cell_type": "code",
   "execution_count": 10,
   "id": "0d39ca6f",
   "metadata": {},
   "outputs": [
    {
     "data": {
      "text/plain": [
       "1    42797\n",
       "0     1079\n",
       "Name: malware, dtype: int64"
      ]
     },
     "execution_count": 10,
     "metadata": {},
     "output_type": "execute_result"
    }
   ],
   "source": [
    "data[\"malware\"].value_counts()"
   ]
  },
  {
   "cell_type": "code",
   "execution_count": 11,
   "id": "5e3583af",
   "metadata": {},
   "outputs": [
    {
     "name": "stderr",
     "output_type": "stream",
     "text": [
      "/home/kapilan/anaconda3/lib/python3.9/site-packages/seaborn/_decorators.py:36: FutureWarning: Pass the following variable as a keyword arg: x. From version 0.12, the only valid positional argument will be `data`, and passing other arguments without an explicit keyword will result in an error or misinterpretation.\n",
      "  warnings.warn(\n"
     ]
    },
    {
     "data": {
      "text/plain": [
       "<AxesSubplot:xlabel='malware', ylabel='count'>"
      ]
     },
     "execution_count": 11,
     "metadata": {},
     "output_type": "execute_result"
    },
    {
     "data": {
      "image/png": "[encoded data removed]",
      "text/plain": [
       "<Figure size 432x288 with 1 Axes>"
      ]
     },
     "metadata": {
      "needs_background": "light"
     },
     "output_type": "display_data"
    }
   ],
   "source": [
    "import seaborn as sns\n",
    "\n",
    "# Distribution of Target variable\n",
    "sns.countplot(data[\"malware\"])"
   ]
  },
  {
   "cell_type": "code",
   "execution_count": 12,
   "id": "2286bb9c",
   "metadata": {},
   "outputs": [
    {
     "data": {
      "text/plain": [
       "<AxesSubplot:>"
      ]
     },
     "execution_count": 12,
     "metadata": {},
     "output_type": "execute_result"
    },
    {
     "data": {
      "image/png": "[encoded data removed]",
      "text/plain": [
       "<Figure size 432x288 with 2 Axes>"
      ]
     },
     "metadata": {
      "needs_background": "light"
     },
     "output_type": "display_data"
    }
   ],
   "source": [
    "sns.heatmap(data.corr())"
   ]
  },
  {
   "cell_type": "code",
   "execution_count": 13,
   "id": "e63c1db0",
   "metadata": {},
   "outputs": [
    {
     "data": {
      "text/plain": [
       "1    42797\n",
       "0     1079\n",
       "Name: malware, dtype: int64"
      ]
     },
     "execution_count": 13,
     "metadata": {},
     "output_type": "execute_result"
    }
   ],
   "source": [
    "data['malware'].value_counts()"
   ]
  },
  {
   "cell_type": "code",
   "execution_count": 17,
   "id": "2a0dde33",
   "metadata": {},
   "outputs": [
    {
     "name": "stdout",
     "output_type": "stream",
     "text": [
      "X: (43876, 100)\n",
      "y: (43876,)\n"
     ]
    }
   ],
   "source": [
    "X = data.drop(['hash', 'malware'], axis=1).values\n",
    "y = data['malware'].values\n",
    "\n",
    "print(\"X:\",X.shape)\n",
    "print(\"y:\",y.shape)"
   ]
  },
  {
   "cell_type": "markdown",
   "id": "92be79b8",
   "metadata": {},
   "source": [
    "# Feature selection using Trees Classifier"
   ]
  },
  {
   "cell_type": "code",
   "execution_count": 19,
   "id": "c40e5a56",
   "metadata": {},
   "outputs": [
    {
     "name": "stdout",
     "output_type": "stream",
     "text": [
      "25 features identified as important:\n",
      "\n",
      "1. feature t_2 (0.047334)\n",
      "2. feature t_76 (0.034478)\n",
      "3. feature t_91 (0.026983)\n",
      "4. feature t_77 (0.021018)\n",
      "5. feature t_99 (0.017340)\n",
      "6. feature t_1 (0.017305)\n",
      "7. feature t_64 (0.016947)\n",
      "8. feature t_90 (0.016034)\n",
      "9. feature t_86 (0.015548)\n",
      "10. feature t_44 (0.015369)\n",
      "11. feature t_84 (0.015239)\n",
      "12. feature t_3 (0.014427)\n",
      "13. feature t_79 (0.014061)\n",
      "14. feature t_80 (0.012935)\n",
      "15. feature t_38 (0.012361)\n",
      "16. feature t_47 (0.011968)\n",
      "17. feature t_78 (0.011814)\n",
      "18. feature t_81 (0.011776)\n",
      "19. feature t_82 (0.011303)\n",
      "20. feature t_10 (0.011105)\n",
      "21. feature t_12 (0.010917)\n",
      "22. feature t_53 (0.010880)\n",
      "23. feature t_85 (0.010653)\n",
      "24. feature t_69 (0.010626)\n",
      "25. feature t_14 (0.010471)\n"
     ]
    }
   ],
   "source": [
    "np.random.seed(1)\n",
    "import sklearn.ensemble as ske\n",
    "from sklearn.feature_selection import SelectFromModel\n",
    "\n",
    "# Feature selection using Trees Classifier\n",
    "fsel = ske.ExtraTreesClassifier().fit(X, y)\n",
    "model = SelectFromModel(fsel, prefit=True)\n",
    "X_new = model.transform(X)\n",
    "nb_features = X_new.shape[1]\n",
    "\n",
    "print('%i features identified as important:\\n' % nb_features)\n",
    "\n",
    "indices = np.argsort(fsel.feature_importances_)[::-1][:nb_features]\n",
    "for f in range(nb_features):\n",
    "    print(\"%d. feature %s (%f)\" % (f + 1, data.columns[2+indices[f]], fsel.feature_importances_[indices[f]]))"
   ]
  },
  {
   "cell_type": "code",
   "execution_count": 20,
   "id": "3041fd80",
   "metadata": {},
   "outputs": [],
   "source": [
    "# Take care of the feature order\n",
    "features = []\n",
    "\n",
    "for f in sorted(np.argsort(fsel.feature_importances_)[::-1][:nb_features]):\n",
    "    features.append(data.columns[2+f])"
   ]
  },
  {
   "cell_type": "code",
   "execution_count": 21,
   "id": "0b1bb256",
   "metadata": {},
   "outputs": [
    {
     "name": "stdout",
     "output_type": "stream",
     "text": [
      "X_train:  (35100, 25)\n",
      "y_train:  (35100,)\n",
      "X_test:  (8776, 25)\n",
      "y_test:  (8776,)\n"
     ]
    }
   ],
   "source": [
    "from sklearn.model_selection import train_test_split\n",
    "\n",
    "# Splitting the dataset into the Training set and Test set\n",
    "X_train, X_test, y_train, y_test = train_test_split(X_new, y, test_size = 0.20)\n",
    "print(\"X_train: \",X_train.shape)\n",
    "print(\"y_train: \",y_train.shape)\n",
    "print(\"X_test: \",X_test.shape)\n",
    "print(\"y_test: \",y_test.shape)"
   ]
  },
  {
   "cell_type": "code",
   "execution_count": 22,
   "id": "9459a0d1",
   "metadata": {},
   "outputs": [
    {
     "name": "stdout",
     "output_type": "stream",
     "text": [
      "GNB : GaussianNB()\n",
      "RandomForest : RandomForestClassifier()\n",
      "KNeighbors : KNeighborsClassifier(n_neighbors=2)\n",
      "DecisionTree : DecisionTreeClassifier(max_depth=10)\n",
      "AdaBoost : AdaBoostClassifier()\n"
     ]
    }
   ],
   "source": [
    "from sklearn.naive_bayes import GaussianNB\n",
    "from sklearn.ensemble import RandomForestClassifier\n",
    "from sklearn.neighbors import KNeighborsClassifier\n",
    "from sklearn.tree import DecisionTreeClassifier\n",
    "from sklearn.ensemble import AdaBoostClassifier\n",
    "\n",
    "#Algorithm comparison\n",
    "algorithms = {\n",
    "        \"GNB\": GaussianNB(),\n",
    "        \"RandomForest\": RandomForestClassifier(),\n",
    "        \"KNeighbors\": KNeighborsClassifier(n_neighbors=2),\n",
    "        \"DecisionTree\": DecisionTreeClassifier(max_depth=10),\n",
    "        \"AdaBoost\": AdaBoostClassifier()\n",
    "    }\n",
    "\n",
    "for algo in algorithms:\n",
    "    print(algo,':',algorithms[algo])"
   ]
  },
  {
   "cell_type": "code",
   "execution_count": 23,
   "id": "a0ecd21a",
   "metadata": {},
   "outputs": [
    {
     "name": "stdout",
     "output_type": "stream",
     "text": [
      "\n",
      "Now testing algorithms\n",
      "\n",
      "GNB : 93.664540 %\n",
      "RandomForest : 99.042844 %\n",
      "KNeighbors : 98.005925 %\n",
      "DecisionTree : 98.826345 %\n",
      "AdaBoost : 98.279398 %\n",
      "\n",
      "Winner algorithm is RandomForest with a 99.042844 % success\n"
     ]
    }
   ],
   "source": [
    "results = {}\n",
    "print(\"\\nNow testing algorithms\\n\")\n",
    "for algo in algorithms:\n",
    "    clf = algorithms[algo]\n",
    "    clf.fit(X_train, y_train)\n",
    "    score = clf.score(X_test, y_test)\n",
    "    print(\"%s : %f %%\" % (algo, score*100))\n",
    "    results[algo] = score\n",
    "\n",
    "winner = max(results, key=results.get)\n",
    "print('\\nWinner algorithm is %s with a %f %% success' % (winner, results[winner]*100))"
   ]
  },
  {
   "cell_type": "code",
   "execution_count": 24,
   "id": "4713a658",
   "metadata": {},
   "outputs": [
    {
     "name": "stdout",
     "output_type": "stream",
     "text": [
      "[[ 139   73]\n",
      " [  11 8553]]\n"
     ]
    },
    {
     "data": {
      "image/png": "[encoded data removed]",
      "text/plain": [
       "<Figure size 432x288 with 2 Axes>"
      ]
     },
     "metadata": {
      "needs_background": "light"
     },
     "output_type": "display_data"
    }
   ],
   "source": [
    "from sklearn.metrics import confusion_matrix\n",
    "import matplotlib.pyplot as plt\n",
    "\n",
    "# Making the Confusion Matrix\n",
    "clf = algorithms[winner]\n",
    "res = clf.predict(X_test)\n",
    "mt = confusion_matrix(y_test, res)\n",
    "print(mt)\n",
    "\n",
    "# Making the Confusion Matrix as Plot\n",
    "sns.heatmap(mt/np.sum(mt), annot=True,fmt='.2%', cmap=plt.cm.Blues)\n",
    "plt.ylabel('Predicted Label')\n",
    "plt.xlabel('True Label')\n",
    "plt.title('Confusion Matrix')\n",
    "plt.savefig('Confusion Matrix',dpi=300)"
   ]
  },
  {
   "cell_type": "code",
   "execution_count": 25,
   "id": "04ff5078",
   "metadata": {},
   "outputs": [
    {
     "name": "stdout",
     "output_type": "stream",
     "text": [
      "Saving algorithm and feature list in classifier directory...\n",
      "Success\n"
     ]
    }
   ],
   "source": [
    "import pickle\n",
    "import joblib\n",
    "\n",
    "# Save the algorithm and the feature list for later predictions\n",
    "print('Saving algorithm and feature list in classifier directory...')\n",
    "joblib.dump(algorithms[winner], 'classifier.pkl')\n",
    "open('features.pkl', 'wb').write(pickle.dumps(features))\n",
    "print('Success')"
   ]
  },
  {
   "cell_type": "code",
   "execution_count": 26,
   "id": "e52077cc",
   "metadata": {},
   "outputs": [
    {
     "name": "stdout",
     "output_type": "stream",
     "text": [
      "[[ 139   73]\n",
      " [  11 8553]]\n"
     ]
    }
   ],
   "source": [
    "# Testing with .pik file\n",
    "\n",
    "clf_j = joblib.load('classifier.pkl')\n",
    "y_predj = clf_j.predict(X_test)\n",
    "\n",
    "# Making the Confusion Matrix\n",
    "from sklearn.metrics import confusion_matrix\n",
    "cm = confusion_matrix(y_test, y_predj)\n",
    "print(cm)"
   ]
  },
  {
   "cell_type": "markdown",
   "id": "15d26cf7",
   "metadata": {},
   "source": [
    "# Individual Models"
   ]
  },
  {
   "cell_type": "code",
   "execution_count": 39,
   "id": "55fdacb0",
   "metadata": {},
   "outputs": [],
   "source": [
    "from sklearn.metrics import classification_report\n",
    "import matplotlib.pyplot as plt\n",
    "from matplotlib.pyplot import figure"
   ]
  },
  {
   "cell_type": "markdown",
   "id": "45a9f511",
   "metadata": {},
   "source": [
    "# Naive Bayes"
   ]
  },
  {
   "cell_type": "code",
   "execution_count": 40,
   "id": "4867c186",
   "metadata": {},
   "outputs": [
    {
     "data": {
      "text/plain": [
       "GaussianNB()"
      ]
     },
     "execution_count": 40,
     "metadata": {},
     "output_type": "execute_result"
    }
   ],
   "source": [
    "from sklearn.naive_bayes import GaussianNB\n",
    "\n",
    "gnb = GaussianNB()\n",
    "gnb.fit(X_test, y_test)"
   ]
  },
  {
   "cell_type": "code",
   "execution_count": 41,
   "id": "c5154a27",
   "metadata": {},
   "outputs": [
    {
     "name": "stdout",
     "output_type": "stream",
     "text": [
      "              precision    recall  f1-score   support\n",
      "\n",
      "           0       0.21      0.40      0.28       212\n",
      "           1       0.98      0.96      0.97      8564\n",
      "\n",
      "    accuracy                           0.95      8776\n",
      "   macro avg       0.60      0.68      0.63      8776\n",
      "weighted avg       0.97      0.95      0.96      8776\n",
      "\n"
     ]
    }
   ],
   "source": [
    "print(classification_report(y_test,gnb.predict(X_test)))\n",
    "gn=gnb.score(X_test, y_test)"
   ]
  },
  {
   "cell_type": "markdown",
   "id": "6d95bb81",
   "metadata": {},
   "source": [
    "# RANDOM FORREST CLASSIFIER"
   ]
  },
  {
   "cell_type": "code",
   "execution_count": 42,
   "id": "c4686b00",
   "metadata": {},
   "outputs": [
    {
     "data": {
      "text/plain": [
       "RandomForestClassifier()"
      ]
     },
     "execution_count": 42,
     "metadata": {},
     "output_type": "execute_result"
    }
   ],
   "source": [
    "from sklearn.ensemble import RandomForestClassifier\n",
    "\n",
    "rtclf=RandomForestClassifier()\n",
    "rtclf.fit(X_test, y_test)"
   ]
  },
  {
   "cell_type": "code",
   "execution_count": 43,
   "id": "dd099ea8",
   "metadata": {},
   "outputs": [
    {
     "name": "stdout",
     "output_type": "stream",
     "text": [
      "              precision    recall  f1-score   support\n",
      "\n",
      "           0       1.00      0.98      0.99       212\n",
      "           1       1.00      1.00      1.00      8564\n",
      "\n",
      "    accuracy                           1.00      8776\n",
      "   macro avg       1.00      0.99      0.99      8776\n",
      "weighted avg       1.00      1.00      1.00      8776\n",
      "\n"
     ]
    }
   ],
   "source": [
    "print(classification_report(y_test,rtclf.predict(X_test)))\n",
    "rt=rtclf.score(X_test, y_test)"
   ]
  },
  {
   "cell_type": "markdown",
   "id": "483f4a56",
   "metadata": {},
   "source": [
    "# KNN Classifier"
   ]
  },
  {
   "cell_type": "code",
   "execution_count": 44,
   "id": "b0879ae5",
   "metadata": {},
   "outputs": [
    {
     "data": {
      "text/plain": [
       "KNeighborsClassifier(n_neighbors=2)"
      ]
     },
     "execution_count": 44,
     "metadata": {},
     "output_type": "execute_result"
    }
   ],
   "source": [
    "from sklearn.neighbors import KNeighborsClassifier\n",
    "\n",
    "knn=neigh = KNeighborsClassifier(n_neighbors=2)\n",
    "knn.fit(X_train, y_train)"
   ]
  },
  {
   "cell_type": "code",
   "execution_count": 45,
   "id": "3cdbd035",
   "metadata": {},
   "outputs": [
    {
     "name": "stdout",
     "output_type": "stream",
     "text": [
      "              precision    recall  f1-score   support\n",
      "\n",
      "           0       0.59      0.56      0.57       212\n",
      "           1       0.99      0.99      0.99      8564\n",
      "\n",
      "    accuracy                           0.98      8776\n",
      "   macro avg       0.79      0.77      0.78      8776\n",
      "weighted avg       0.98      0.98      0.98      8776\n",
      "\n"
     ]
    }
   ],
   "source": [
    "print(classification_report(y_test,knn.predict(X_test)))\n",
    "kn=knn.score(X_test, y_test)"
   ]
  },
  {
   "cell_type": "markdown",
   "id": "427cc442",
   "metadata": {},
   "source": [
    "# Decision Tree Classifier"
   ]
  },
  {
   "cell_type": "code",
   "execution_count": 46,
   "id": "108bc73d",
   "metadata": {},
   "outputs": [
    {
     "data": {
      "text/plain": [
       "DecisionTreeClassifier(max_depth=10)"
      ]
     },
     "execution_count": 46,
     "metadata": {},
     "output_type": "execute_result"
    }
   ],
   "source": [
    "from sklearn.tree import DecisionTreeClassifier\n",
    "\n",
    "dtc=DecisionTreeClassifier(max_depth=10)\n",
    "dtc.fit(X_train, y_train)"
   ]
  },
  {
   "cell_type": "code",
   "execution_count": 47,
   "id": "2a9d516b",
   "metadata": {},
   "outputs": [
    {
     "name": "stdout",
     "output_type": "stream",
     "text": [
      "              precision    recall  f1-score   support\n",
      "\n",
      "           0       0.89      0.61      0.72       212\n",
      "           1       0.99      1.00      0.99      8564\n",
      "\n",
      "    accuracy                           0.99      8776\n",
      "   macro avg       0.94      0.80      0.86      8776\n",
      "weighted avg       0.99      0.99      0.99      8776\n",
      "\n"
     ]
    }
   ],
   "source": [
    "print(classification_report(y_test,dtc.predict(X_test)))\n",
    "dt=dtc.score(X_test, y_test)"
   ]
  },
  {
   "cell_type": "markdown",
   "id": "1a0684dd",
   "metadata": {},
   "source": [
    "# AdaBoost Classifier"
   ]
  },
  {
   "cell_type": "code",
   "execution_count": 48,
   "id": "0808102c",
   "metadata": {},
   "outputs": [
    {
     "data": {
      "text/plain": [
       "AdaBoostClassifier()"
      ]
     },
     "execution_count": 48,
     "metadata": {},
     "output_type": "execute_result"
    }
   ],
   "source": [
    "from sklearn.ensemble import AdaBoostClassifier\n",
    "\n",
    "abc=AdaBoostClassifier()\n",
    "abc.fit(X_train, y_train)"
   ]
  },
  {
   "cell_type": "code",
   "execution_count": 49,
   "id": "468398ab",
   "metadata": {},
   "outputs": [
    {
     "name": "stdout",
     "output_type": "stream",
     "text": [
      "              precision    recall  f1-score   support\n",
      "\n",
      "           0       0.72      0.47      0.57       212\n",
      "           1       0.99      1.00      0.99      8564\n",
      "\n",
      "    accuracy                           0.98      8776\n",
      "   macro avg       0.85      0.73      0.78      8776\n",
      "weighted avg       0.98      0.98      0.98      8776\n",
      "\n"
     ]
    }
   ],
   "source": [
    "print(classification_report(y_test,abc.predict(X_test)))\n",
    "ab=abc.score(X_test, y_test)"
   ]
  },
  {
   "cell_type": "code",
   "execution_count": 50,
   "id": "d2c45278",
   "metadata": {},
   "outputs": [
    {
     "data": {
      "image/png": "[encoded data removed]",
      "text/plain": [
       "<Figure size 640x480 with 1 Axes>"
      ]
     },
     "metadata": {
      "needs_background": "light"
     },
     "output_type": "display_data"
    }
   ],
   "source": [
    "figure(figsize=(8, 6), dpi=80)\n",
    "scores=[rt,gn,kn, dt, ab]\n",
    "names=[\"Random Forrest\",\"Naive Bayes\",\"KNN\", \"Decision Tree\", \"AdaBoost\"]\n",
    "plt.bar(names,scores)\n",
    "plt.ylabel(\"Accuracy\")\n",
    "plt.title(\"Algorithm comparisions\")\n",
    "plt.tick_params(axis=\"x\",which=\"major\",labelsize=10)"
   ]
  }
 ],
 "metadata": {
  "kernelspec": {
   "display_name": "Python 3 (ipykernel)",
   "language": "python",
   "name": "python3"
  },
  "language_info": {
   "codemirror_mode": {
    "name": "ipython",
    "version": 3
   },
   "file_extension": ".py",
   "mimetype": "text/x-python",
   "name": "python",
   "nbconvert_exporter": "python",
   "pygments_lexer": "ipython3",
   "version": "3.9.7"
  }
 },
 "nbformat": 4,
 "nbformat_minor": 5
}
